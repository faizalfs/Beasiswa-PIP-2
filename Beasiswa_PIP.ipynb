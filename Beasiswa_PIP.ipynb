{
  "nbformat": 4,
  "nbformat_minor": 0,
  "metadata": {
    "colab": {
      "provenance": []
    },
    "kernelspec": {
      "name": "python3",
      "display_name": "Python 3"
    },
    "language_info": {
      "name": "python"
    }
  },
  "cells": [
    {
      "cell_type": "code",
      "execution_count": null,
      "metadata": {
        "colab": {
          "base_uri": "https://localhost:8080/"
        },
        "id": "_3yRZ6CuPlJB",
        "outputId": "acefa829-5510-4cdb-bd15-439cf16863b0"
      },
      "outputs": [
        {
          "output_type": "stream",
          "name": "stdout",
          "text": [
            "Final Results with SAW Scores:\n",
            "      Nama  Fuzzy_Penghasilan_Ayah  Fuzzy_Penghasilan_Ibu  \\\n",
            "3  Siswa D                1.000000               1.000000   \n",
            "0  Siswa A                0.666667               1.000000   \n",
            "1  Siswa B                1.000000               1.000000   \n",
            "2  Siswa C                0.000000               0.333333   \n",
            "\n",
            "   Fuzzy_Jumlah_Saudara  Fuzzy_Pekerjaan_Ayah  Fuzzy_Pekerjaan_Ibu  SAW_Score  \\\n",
            "3                   1.0                   0.5                  1.0       0.95   \n",
            "0                   0.5                   0.5                  1.0       0.75   \n",
            "1                   0.0                   0.0                  0.5       0.65   \n",
            "2                   1.0                   1.0                  0.5       0.45   \n",
            "\n",
            "   Rank  \n",
            "3   1.0  \n",
            "0   2.0  \n",
            "1   3.0  \n",
            "2   4.0  \n"
          ]
        }
      ],
      "source": [
        "import numpy as np\n",
        "import pandas as pd\n",
        "\n",
        "# Step 1: Load Dataset (Simulasi Data untuk Beasiswa PIP)\n",
        "data = {\n",
        "    \"Nama\": [\"Siswa A\", \"Siswa B\", \"Siswa C\", \"Siswa D\"],\n",
        "    \"Penghasilan_Ayah\": [2000000, 1500000, 3000000, 1000000],\n",
        "    \"Penghasilan_Ibu\": [1500000, 1200000, 2500000, 800000],\n",
        "    \"Jumlah_Saudara\": [3, 2, 4, 5],\n",
        "    \"Pekerjaan_Ayah\": [2, 3, 1, 2],  # 1: Tidak Bekerja, 2: Buruh, 3: PNS\n",
        "    \"Pekerjaan_Ibu\": [1, 2, 2, 1],  # 1: Ibu Rumah Tangga, 2: Buruh, 3: PNS\n",
        "}\n",
        "df = pd.DataFrame(data)\n",
        "\n",
        "# Step 2: Define Fuzzy Membership Functions\n",
        "def fuzzy_penghasilan(value):\n",
        "    \"\"\"Fungsi keanggotaan untuk penghasilan (dalam rupiah).\"\"\"\n",
        "    if value <= 1500000:\n",
        "        return 1.0  # Rendah\n",
        "    elif 1500000 < value <= 3000000:\n",
        "        return (3000000 - value) / 1500000  # Sedang\n",
        "    else:\n",
        "        return 0.0  # Tinggi\n",
        "\n",
        "def fuzzy_jumlah_saudara(value):\n",
        "    \"\"\"Fungsi keanggotaan untuk jumlah saudara.\"\"\"\n",
        "    if value >= 4:\n",
        "        return 1.0  # Banyak\n",
        "    elif 2 <= value < 4:\n",
        "        return (value - 2) / 2  # Sedang\n",
        "    else:\n",
        "        return 0.0  # Sedikit\n",
        "\n",
        "def fuzzy_pekerjaan(value):\n",
        "    \"\"\"Fungsi keanggotaan untuk pekerjaan.\"\"\"\n",
        "    if value == 1:\n",
        "        return 1.0  # Tidak Bekerja / Ibu Rumah Tangga\n",
        "    elif value == 2:\n",
        "        return 0.5  # Buruh\n",
        "    else:\n",
        "        return 0.0  # PNS atau lainnya\n",
        "\n",
        "# Step 3: Apply Fuzzy Membership Functions to Dataset\n",
        "fuzzy_data = []\n",
        "for _, row in df.iterrows():\n",
        "    fuzzy_row = {\n",
        "        \"Nama\": row[\"Nama\"],\n",
        "        \"Fuzzy_Penghasilan_Ayah\": fuzzy_penghasilan(row[\"Penghasilan_Ayah\"]),\n",
        "        \"Fuzzy_Penghasilan_Ibu\": fuzzy_penghasilan(row[\"Penghasilan_Ibu\"]),\n",
        "        \"Fuzzy_Jumlah_Saudara\": fuzzy_jumlah_saudara(row[\"Jumlah_Saudara\"]),\n",
        "        \"Fuzzy_Pekerjaan_Ayah\": fuzzy_pekerjaan(row[\"Pekerjaan_Ayah\"]),\n",
        "        \"Fuzzy_Pekerjaan_Ibu\": fuzzy_pekerjaan(row[\"Pekerjaan_Ibu\"]),\n",
        "    }\n",
        "    fuzzy_data.append(fuzzy_row)\n",
        "\n",
        "fuzzy_df = pd.DataFrame(fuzzy_data)\n",
        "\n",
        "# Step 4: Define Weights for SAW (Bobot Kriteria)\n",
        "weights = {\n",
        "    \"Fuzzy_Penghasilan_Ayah\": 0.3,\n",
        "    \"Fuzzy_Penghasilan_Ibu\": 0.3,\n",
        "    \"Fuzzy_Jumlah_Saudara\": 0.2,\n",
        "    \"Fuzzy_Pekerjaan_Ayah\": 0.1,\n",
        "    \"Fuzzy_Pekerjaan_Ibu\": 0.1,\n",
        "}\n",
        "\n",
        "# Step 5: Calculate SAW Scores\n",
        "fuzzy_df[\"SAW_Score\"] = fuzzy_df.apply(\n",
        "    lambda row: sum(row[criteria] * weight for criteria, weight in weights.items()), axis=1\n",
        ")\n",
        "\n",
        "# Step 6: Rank Students Based on SAW Scores\n",
        "fuzzy_df[\"Rank\"] = fuzzy_df[\"SAW_Score\"].rank(ascending=False)\n",
        "\n",
        "# Step 7: Save Model for Deployment\n",
        "fuzzy_df.to_csv(\"fuzzy_saw_results.csv\", index=False)\n",
        "\n",
        "# Display Results\n",
        "print(\"Final Results with SAW Scores:\")\n",
        "print(fuzzy_df.sort_values(by=\"Rank\"))\n"
      ]
    }
  ]
}